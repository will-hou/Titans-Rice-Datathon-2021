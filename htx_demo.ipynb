{
 "cells": [
  {
   "cell_type": "code",
   "execution_count": 1,
   "metadata": {},
   "outputs": [],
   "source": [
    "import pandas as pd\n",
    "import numpy as np\n",
    "from census import Census\n",
    "from us import states\n",
    "import geopandas as gpd\n",
    "import matplotlib.pyplot as plt\n",
    "tx_num = 48"
   ]
  },
  {
   "cell_type": "code",
   "execution_count": 2,
   "metadata": {
    "scrolled": true
   },
   "outputs": [],
   "source": [
    "tx_trt = pd.read_csv(\"Cen2010Harris_Trt_v01.csv\")\n",
    "\n",
    "tx_shp = gpd.read_file(\"tl_2019_48_tract\")"
   ]
  },
  {
   "cell_type": "code",
   "execution_count": 5,
   "metadata": {},
   "outputs": [],
   "source": [
    "def strsign_to_float(x):\n",
    "    number = x[1:]\n",
    "    if x[0] == \"+\":\n",
    "        return float(number)\n",
    "    elif x[0] == \"-\":\n",
    "        return float(number) * -1\n",
    "        \n",
    "coords = tx_shp[[\"INTPTLAT\", \"INTPTLON\"]].applymap(strsign_to_float)"
   ]
  },
  {
   "cell_type": "code",
   "execution_count": 6,
   "metadata": {},
   "outputs": [],
   "source": [
    "tract = tx_shp.NAMELSAD.apply(lambda x: x.split()[2])"
   ]
  },
  {
   "cell_type": "code",
   "execution_count": 7,
   "metadata": {},
   "outputs": [],
   "source": [
    "df = pd.DataFrame(tract).rename(columns={'NAMELSAD': \"tract\"})\n",
    "\n",
    "df[\"latitude\"] = coords[\"INTPTLAT\"]\n",
    "df[\"longitude\"] = coords[\"INTPTLON\"]\n",
    "\n",
    "# df.apply(lambda row: str(row[\"latitude\"]) + \", \" + str(row[\"longitude\"]) + f\"({row['tract']})\")\n",
    "df[\"google_loc\"] = df.apply(lambda row: str(row[\"latitude\"]) + \", \" + str(row[\"longitude\"]) + f' ({row[\"tract\"]})', axis=1)\n",
    "df[\"GeoID10_trt\"] = tx_shp[\"GEOID\"].apply(int)\n",
    "\n",
    "#df.to_csv(\"SLR-Economics\\Tracts\\\\tract_coords.csv\")"
   ]
  },
  {
   "cell_type": "code",
   "execution_count": 8,
   "metadata": {},
   "outputs": [],
   "source": [
    "sur_cen = tx_trt.merge(df, on = \"GeoID10_trt\", how = \"left\")\n",
    "sur_cen.to_csv('final_dat.csv', index = False)\n"
   ]
  },
  {
   "cell_type": "code",
   "execution_count": 40,
   "metadata": {},
   "outputs": [],
   "source": [
    "# Combine age groups\n",
    "\n",
    "new_score = pd.read_csv(\"forscoring.csv\")\n",
    "new_score[\"18-21 years\"] = new_score[\"18-21 years\"]/new_score[\"Total Population\"]\n",
    "new_score[\"22-29 years\"] = new_score[\"22-29 years\"]/new_score[\"Total Population\"]\n",
    "new_score[\"30-39 years\"] = new_score[\"30-39 years\"]/new_score[\"Total Population\"]\n",
    "new_score[\"40-49 years\"] = new_score[\"40-49 years\"]/new_score[\"Total Population\"]\n",
    "age_18to49 = new_score[\"18-21 years\"]+new_score[\"22-29 years\"]+new_score[\"30-39 years\"]+new_score[\"40-49 years\"]\n",
    "new_score['18-44 years'] = age_18to49 \n",
    "\n",
    "\n",
    "new_score['45-64 years'] = new_score[\"Age50_64\"]/new_score[\"Total Population\"]\n",
    "\n",
    "new_score['65 years and over'] = new_score[\"65 years and over\"]/new_score[\"Total Population\"]\n",
    "\n",
    "new_score['Bachelor\\'s degree or above'] = new_score[\"College\"]/new_score[\"Education Total\"]\n",
    "#new_score[1:,\"18-21 years\"]/new_score[1:,\"Total Population\"]\n",
    "#new_score = new_score.rename(columns={\"AU\": \"Author\"})\n",
    "\n",
    "new_score['Black non-Hispanic'] = new_score[\"Black non-Hispanic\"]/new_score[\"Total Population\"]\n",
    "\n",
    "new_score['Female'] = new_score[\"Female\"]/new_score[\"Total Population\"]\n",
    "\n",
    "new_score['High school graduate or less']= (new_score[\"Less than high school\"]+new_score[\"High school\"])/new_score[\"Education Total\"]\n",
    "\n",
    "new_score['Some college'] = new_score[\"College\"]/new_score[\"Education Total\"]\n",
    "\n",
    "new_score['Hispanic'] = new_score[\"Hispanic\"]/new_score['Total Population']\n",
    "\n",
    "new_score['Male'] = new_score[\"Male\"]/new_score[\"Total Population\"]\n",
    "\n",
    "new_score['Other non-Hispanic'] = new_score[\"Other non-Hispanic\"]/new_score[\"Total Population\"]\n",
    "\n",
    "new_score['White non-Hispanic'] = new_score[\"White non-hispanic\"]/new_score[\"Total Population\"]\n",
    "\n",
    "df_name.to_csv('filename.csv', index = False)"
   ]
  },
  {
   "cell_type": "code",
   "execution_count": null,
   "metadata": {},
   "outputs": [],
   "source": []
  },
  {
   "cell_type": "code",
   "execution_count": null,
   "metadata": {},
   "outputs": [],
   "source": []
  }
 ],
 "metadata": {
  "kernelspec": {
   "display_name": "Python 3",
   "language": "python",
   "name": "python3"
  },
  "language_info": {
   "codemirror_mode": {
    "name": "ipython",
    "version": 3
   },
   "file_extension": ".py",
   "mimetype": "text/x-python",
   "name": "python",
   "nbconvert_exporter": "python",
   "pygments_lexer": "ipython3",
   "version": "3.8.5"
  }
 },
 "nbformat": 4,
 "nbformat_minor": 4
}
